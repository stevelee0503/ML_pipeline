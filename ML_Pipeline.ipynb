{
  "nbformat": 4,
  "nbformat_minor": 0,
  "metadata": {
    "colab": {
      "provenance": [],
      "authorship_tag": "ABX9TyN3lU/TyzL6R1lJhao47r9y",
      "include_colab_link": true
    },
    "kernelspec": {
      "name": "python3",
      "display_name": "Python 3"
    },
    "language_info": {
      "name": "python"
    }
  },
  "cells": [
    {
      "cell_type": "markdown",
      "metadata": {
        "id": "view-in-github",
        "colab_type": "text"
      },
      "source": [
        "<a href=\"https://colab.research.google.com/github/stevelee0503/ML_pipeline/blob/main/ML_Pipeline.ipynb\" target=\"_parent\"><img src=\"https://colab.research.google.com/assets/colab-badge.svg\" alt=\"Open In Colab\"/></a>"
      ]
    },
    {
      "cell_type": "code",
      "execution_count": 4,
      "metadata": {
        "colab": {
          "base_uri": "https://localhost:8080/",
          "height": 495
        },
        "id": "dYh8vvKgqbTS",
        "outputId": "623d00e7-6c1f-46fa-b2b5-2ebd1338162a"
      },
      "outputs": [
        {
          "output_type": "display_data",
          "data": {
            "text/plain": [
              "<Figure size 720x288 with 10 Axes>"
            ],
            "image/png": "[encoded data removed]"
          },
          "metadata": {
            "needs_background": "light"
          }
        },
        {
          "output_type": "stream",
          "name": "stdout",
          "text": [
            "Accuracy: 0.9208571428571428\n",
            "Confusion matrix:\n",
            "[[1294    1    7    0    3   13   13    4    6    2]\n",
            " [   0 1550    6   10    3   12    0    4   13    2]\n",
            " [   5   20 1234   21   15    9   20   17   29   10]\n",
            " [   6    9   30 1282    1   39    7   18   23   18]\n",
            " [   6    3    6    4 1201    5   11    8    7   44]\n",
            " [   4   10    7   41   12 1125   20    4   36   14]\n",
            " [   5    4   19    1   14   17 1331    2    3    0]\n",
            " [   6    4   26    3   11    6    0 1415    1   31]\n",
            " [  10   26   13   43    6   42    9    9 1179   20]\n",
            " [   7   11    6   13   36    7    0   44   15 1281]]\n"
          ]
        }
      ],
      "source": [
        "import pandas as pd\n",
        "import numpy as np\n",
        "from sklearn.datasets import fetch_openml\n",
        "from sklearn.model_selection import train_test_split\n",
        "from sklearn.linear_model import LogisticRegression\n",
        "from sklearn.metrics import accuracy_score, confusion_matrix\n",
        "import matplotlib.pyplot as plt\n",
        "\n",
        "class MNISTPipeline:\n",
        "    def __init__(self):\n",
        "        self.model = None\n",
        "    \n",
        "    def load_data(self):\n",
        "        mnist = fetch_openml('mnist_784')\n",
        "        X, y = mnist['data'].values, mnist['target'].values\n",
        "        return X, y\n",
        "    \n",
        "    def preprocess_data(self, X, y):\n",
        "        # 0~1 사이로 스케일링\n",
        "        X = X / 255.\n",
        "        # train/test 데이터로 분리\n",
        "        X_train, X_test, y_train, y_test = train_test_split(X, y, test_size=0.2, random_state=42)\n",
        "        return X_train, X_test, y_train, y_test\n",
        "    \n",
        "    def train_model(self, X_train, y_train):\n",
        "        # 로지스틱 회귀 모델 학습\n",
        "        self.model = LogisticRegression(max_iter=1000)\n",
        "        self.model.fit(X_train, y_train)\n",
        "    \n",
        "    def predict(self, X_test):\n",
        "        # 예측\n",
        "        y_pred = self.model.predict(X_test)\n",
        "        return y_pred\n",
        "    \n",
        "    def evaluate(self, y_test, y_pred):\n",
        "        # 정확도 및 오차 행렬 출력\n",
        "        acc = accuracy_score(y_test, y_pred)\n",
        "        cm = confusion_matrix(y_test, y_pred)\n",
        "        return acc, cm\n",
        "    \n",
        "    def visualize_data(self, X_train, y_train):\n",
        "        # 데이터 시각화\n",
        "        fig, axes = plt.subplots(nrows=2, ncols=5, figsize=(10, 4))\n",
        "        for i, ax in enumerate(axes.flat):\n",
        "            ax.imshow(X_train[i].reshape(28, 28), cmap='gray')\n",
        "            ax.set(title = f\"Number: {y_train[i]}\")\n",
        "        plt.show()\n",
        "        \n",
        "pipeline = MNISTPipeline()\n",
        "X, y = pipeline.load_data()\n",
        "X_train, X_test, y_train, y_test = pipeline.preprocess_data(X, y)\n",
        "pipeline.visualize_data(X_train, y_train)\n",
        "pipeline.train_model(X_train, y_train)\n",
        "y_pred = pipeline.predict(X_test)\n",
        "acc, cm = pipeline.evaluate(y_test, y_pred)\n",
        "print(f\"Accuracy: {acc}\")\n",
        "print(f\"Confusion matrix:\\n{cm}\")\n"
      ]
    },
    {
      "cell_type": "code",
      "source": [],
      "metadata": {
        "id": "oIDKS_r-qeh-"
      },
      "execution_count": null,
      "outputs": []
    }
  ]
}